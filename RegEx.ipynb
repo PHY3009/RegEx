{
 "cells": [
  {
   "cell_type": "markdown",
   "metadata": {
    "collapsed": false
   },
   "source": [
    "##Regular expressions\n",
    "\n",
    "Regular expressions are patterns that match text. Why are they useful?\n",
    "\n",
    "Our sample problem: We have 20-30 files containing several hundred measurements. \n",
    "\n",
    "**Problem:** they are in several different formats and so we can not simply put them all in the same file right away… Some use tabs to separate fields, others use commas… and the dates are written in several different styles.\n",
    "\n",
    "We will need to use regular expressions to extract the relevant information rearrange it so it is a formatted and organized in a uniform manner.\n",
    "\n",
    "You might have seen regular expressions before? E.g. `*` as a wild-card? Eg. `*.txt` matches any filenames ending in `.txt`\n",
    "\n",
    "Warning - notation for REs are ugly…\n",
    "\n",
    "Let's load in our text from the notebook-1.txt and notebook-2.txt files"
   ]
  },
  {
   "cell_type": "code",
   "execution_count": 82,
   "metadata": {
    "collapsed": false
   },
   "outputs": [
    {
     "name": "stdout",
     "output_type": "stream",
     "text": [
      "Baker 1 2009-11-17      1223.0\n",
      "Baker 1 2010-06-24      1122.7\n",
      "Baker 2 2009-07-24      2819.0\n",
      "Baker 2 2010-08-25      2971.6\n",
      "Baker 1 2011-01-05      1410.0\n",
      "Baker 2 2010-09-04      4671.6\n",
      "Davison/May 23, 2010/1724.7\n",
      "Pertwee/May 24, 2010/2103.8\n",
      "Davison/June 19, 2010/1731.9\n",
      "Davison/July 6, 2010/2010.7\n",
      "Pertwee/Aug 4, 2010/1731.3\n",
      "Pertwee/Sept 3, 2010/4981.0\n"
     ]
    }
   ],
   "source": [
    "##Initialize a variable to hold the text\n",
    "readings = []\n",
    "\n",
    "##Create a loop to read in each notebook-*.txt file\n",
    "for filename in ('notebook-1.txt', 'notebook-2.txt'):\n",
    "    \n",
    "    ##read() to \"read\" the strings\n",
    "    ##\n",
    "    ##strip() to remove leading and trailing whitespace\n",
    "    ##\n",
    "    ##split('\\n') to add the newline character to the end of each \n",
    "    ##line to have each line of text\n",
    "    ##be stored as a separate item in the list. If this is not done\n",
    "    ##then the list will only contain 2 items, the first will be \n",
    "    ##all of the text from notebook-1.txt and the second will be \n",
    "    ##all of the text from notebook-2.txt\n",
    "    lines = open(filename, 'r').read().strip().split('\\n')\n",
    "    \n",
    "    ##Each time through the loop we add all the lines from each \n",
    "    ##notebook to readings\n",
    "    readings += lines[:]\n",
    "\n",
    "##Loop through each item in readings and print it to the screen\n",
    "for r in readings:\n",
    "    print(r)"
   ]
  },
  {
   "cell_type": "markdown",
   "metadata": {},
   "source": [
    "To use regular expressions in Python we will use the re library"
   ]
  },
  {
   "cell_type": "code",
   "execution_count": 83,
   "metadata": {
    "collapsed": false
   },
   "outputs": [
    {
     "name": "stdout",
     "output_type": "stream",
     "text": [
      "Baker 1 2010-06-24      1122.7\n"
     ]
    }
   ],
   "source": [
    "# import libraries\n",
    "import re\n",
    "\n",
    "##Loop through each item in readings\n",
    "for r in readings:\n",
    "    \n",
    "    ##Usage: re.search(pattern_to_search_for, string_to_search_in) \n",
    "    ##Here we search each item in readings for those that contain\n",
    "    ##the pattern '06'. If '06' is found then we print that item.\n",
    "    if re.search('06', r):\n",
    "        print(r)\n"
   ]
  },
  {
   "cell_type": "code",
   "execution_count": 84,
   "metadata": {
    "collapsed": false
   },
   "outputs": [
    {
     "name": "stdout",
     "output_type": "stream",
     "text": [
      "Pertwee/Aug 4, 2010/1731.3\n"
     ]
    }
   ],
   "source": [
    "##Loop through each item in readings\n",
    "for r in readings:\n",
    "    \n",
    "    ##Usage: re.search(pattern_to_search_for, string_to_search_in) \n",
    "    ##Here we search each item in readings for those that contain\n",
    "    ##the pattern '06'. If '06' is found then we print that item.\n",
    "    if re.search('Aug', r):\n",
    "        print(r)"
   ]
  },
  {
   "cell_type": "markdown",
   "metadata": {
    "collapsed": false
   },
   "source": [
    "## Exercise:\n",
    "~~~\n",
    "Caenorhabditis elegans\n",
    "Caenorhabditis briggsae\n",
    "Caenorhabditis remanei\n",
    "Caenorhabditis remanei\n",
    "Caenorhabditis elegans\n",
    "Caenorhabditis remanei\n",
    "Caenorhabditis elegans\n",
    "~~~\n",
    "From the above list of nematode species name and we want to extract only those from the species Caenorhabditis elegans\n",
    "\n",
    "Which command below would allow us to do so?\n",
    "\n",
    "a. \n",
    "~~~\n",
    "for nematodes in readings:\n",
    "    if re.search(nematodes, ’Caenorhabditis elegans’)\n",
    "    print r\n",
    "~~~\n",
    "b.\n",
    "~~~\n",
    "for nematodes in readings:\n",
    "    if re.search(‘Caenorhabditis elegans’, nematodes)\n",
    "    print r\n",
    "~~~\n",
    "c. \n",
    "~~~\n",
    "for nematodes in readings:\n",
    "    if re.search(nematodes, ’elegans’)\n",
    "    print r\n",
    "~~~\n",
    "d.\n",
    "~~~\n",
    "for nematodes in readings:\n",
    "    if re.search(‘elegans’, nematodes)\n",
    "    print r\n",
    "~~~\n",
    "e. Both b & d\n"
   ]
  },
  {
   "cell_type": "code",
   "execution_count": 85,
   "metadata": {
    "collapsed": false
   },
   "outputs": [
    {
     "name": "stdout",
     "output_type": "stream",
     "text": [
      "Baker 1 2010-06-24      1122.7\n",
      "Baker 2 2009-07-24      2819.0\n"
     ]
    }
   ],
   "source": [
    "##Loop through each item in readings\n",
    "for r in readings:\n",
    "    \n",
    "    ##Here we search each item in readings for those that contain\n",
    "    ##the pattern '06' OR '07'. If '06' OR '07' is found then we \n",
    "    ##print that item.\n",
    "    if re.search('06|07', r):\n",
    "        print(r)"
   ]
  },
  {
   "cell_type": "markdown",
   "metadata": {
    "collapsed": false
   },
   "source": [
    "##Exercise\n",
    "Print all records from the month of June\n",
    "\n",
    "##Answer:\n",
    "~~~\n",
    "for r in readings:\n",
    "    if re.search('06|June', r):\n",
    "        print r\n",
    "~~~"
   ]
  },
  {
   "cell_type": "markdown",
   "metadata": {},
   "source": [
    "We will be trying to match a lot of patterns in this lesson, so let's write a function to tell us which records match a particular pattern:"
   ]
  },
  {
   "cell_type": "code",
   "execution_count": 86,
   "metadata": {
    "collapsed": false
   },
   "outputs": [
    {
     "name": "stdout",
     "output_type": "stream",
     "text": [
      "   Baker 1 2009-11-17      1223.0\n",
      "** Baker 1 2010-06-24      1122.7\n",
      "** Baker 2 2009-07-24      2819.0\n",
      "   Baker 2 2010-08-25      2971.6\n",
      "   Baker 1 2011-01-05      1410.0\n",
      "   Baker 2 2010-09-04      4671.6\n",
      "   Davison/May 23, 2010/1724.7\n",
      "   Pertwee/May 24, 2010/2103.8\n",
      "   Davison/June 19, 2010/1731.9\n",
      "   Davison/July 6, 2010/2010.7\n",
      "   Pertwee/Aug 4, 2010/1731.3\n",
      "   Pertwee/Sept 3, 2010/4981.0\n"
     ]
    }
   ],
   "source": [
    "##Define the function\n",
    "def show_matches(pattern, strings):\n",
    "    \n",
    "    ##Loop through the given list of strings\n",
    "    for s in strings:\n",
    "        \n",
    "        ##If pattern matches a string in the list \n",
    "        ##print '**' beside it, if not, just print \n",
    "        ##'  ' (i.e. nothing, but we keep the spacing\n",
    "        ##nice and readable)\n",
    "        if re.search(pattern, s):\n",
    "            print('**', s)\n",
    "        else:\n",
    "            print('  ', s)\n",
    "\n",
    "##Call our function show_matches and ask it to tell \n",
    "##us which records contain '06' and '07' \n",
    "show_matches('06|07', readings)"
   ]
  },
  {
   "cell_type": "markdown",
   "metadata": {
    "collapsed": false
   },
   "source": [
    "## Exercise\n",
    "What happens if we try this:\n",
    "~~~\n",
    "show_matches('06|7', readings)\n",
    "~~~\n",
    "Will we get the same output? Try it!"
   ]
  },
  {
   "cell_type": "code",
   "execution_count": 87,
   "metadata": {
    "collapsed": false
   },
   "outputs": [
    {
     "name": "stdout",
     "output_type": "stream",
     "text": [
      "** Baker 1 2009-11-17      1223.0\n",
      "** Baker 1 2010-06-24      1122.7\n",
      "** Baker 2 2009-07-24      2819.0\n",
      "** Baker 2 2010-08-25      2971.6\n",
      "   Baker 1 2011-01-05      1410.0\n",
      "** Baker 2 2010-09-04      4671.6\n",
      "** Davison/May 23, 2010/1724.7\n",
      "   Pertwee/May 24, 2010/2103.8\n",
      "** Davison/June 19, 2010/1731.9\n",
      "** Davison/July 6, 2010/2010.7\n",
      "** Pertwee/Aug 4, 2010/1731.3\n",
      "   Pertwee/Sept 3, 2010/4981.0\n"
     ]
    }
   ],
   "source": [
    "show_matches('06|7', readings)"
   ]
  },
  {
   "cell_type": "markdown",
   "metadata": {},
   "source": [
    "Order of operations is important \"0\" and \"6\" happens before \"06\" or \"7\". Similar to mathmatics, we could force it using brackets"
   ]
  },
  {
   "cell_type": "code",
   "execution_count": 88,
   "metadata": {
    "collapsed": false
   },
   "outputs": [
    {
     "name": "stdout",
     "output_type": "stream",
     "text": [
      "   Baker 1 2009-11-17      1223.0\n",
      "** Baker 1 2010-06-24      1122.7\n",
      "** Baker 2 2009-07-24      2819.0\n",
      "   Baker 2 2010-08-25      2971.6\n",
      "   Baker 1 2011-01-05      1410.0\n",
      "   Baker 2 2010-09-04      4671.6\n",
      "   Davison/May 23, 2010/1724.7\n",
      "   Pertwee/May 24, 2010/2103.8\n",
      "   Davison/June 19, 2010/1731.9\n",
      "   Davison/July 6, 2010/2010.7\n",
      "   Pertwee/Aug 4, 2010/1731.3\n",
      "   Pertwee/Sept 3, 2010/4981.0\n"
     ]
    }
   ],
   "source": [
    "show_matches('0(6|7)', readings)"
   ]
  },
  {
   "cell_type": "markdown",
   "metadata": {
    "collapsed": false
   },
   "source": [
    "But in general show_matches('06|07', readings) is more readable, and so we will stick with that.\n",
    "\n",
    "Now let's try to ask for records from the 5th month"
   ]
  },
  {
   "cell_type": "code",
   "execution_count": 89,
   "metadata": {
    "collapsed": false
   },
   "outputs": [
    {
     "name": "stdout",
     "output_type": "stream",
     "text": [
      "   Baker 1 2009-11-17      1223.0\n",
      "   Baker 1 2010-06-24      1122.7\n",
      "   Baker 2 2009-07-24      2819.0\n",
      "   Baker 2 2010-08-25      2971.6\n",
      "** Baker 1 2011-01-05      1410.0\n",
      "   Baker 2 2010-09-04      4671.6\n",
      "** Davison/May 23, 2010/1724.7\n",
      "** Pertwee/May 24, 2010/2103.8\n",
      "   Davison/June 19, 2010/1731.9\n",
      "   Davison/July 6, 2010/2010.7\n",
      "   Pertwee/Aug 4, 2010/1731.3\n",
      "   Pertwee/Sept 3, 2010/4981.0\n"
     ]
    }
   ],
   "source": [
    "show_matches('05|May', readings)"
   ]
  },
  {
   "cell_type": "markdown",
   "metadata": {},
   "source": [
    "But `Baker 1 2011-01-05      1410.0` isn't from the 5th month, it is from the 5th day... What went wrong here?\n",
    "\n",
    "How might we fix it? Answer - take advantage of context!!"
   ]
  },
  {
   "cell_type": "code",
   "execution_count": 90,
   "metadata": {
    "collapsed": false
   },
   "outputs": [
    {
     "name": "stdout",
     "output_type": "stream",
     "text": [
      "   Baker 1 2009-11-17      1223.0\n",
      "   Baker 1 2010-06-24      1122.7\n",
      "   Baker 2 2009-07-24      2819.0\n",
      "   Baker 2 2010-08-25      2971.6\n",
      "   Baker 1 2011-01-05      1410.0\n",
      "   Baker 2 2010-09-04      4671.6\n",
      "** Davison/May 23, 2010/1724.7\n",
      "** Pertwee/May 24, 2010/2103.8\n",
      "   Davison/June 19, 2010/1731.9\n",
      "   Davison/July 6, 2010/2010.7\n",
      "   Pertwee/Aug 4, 2010/1731.3\n",
      "   Pertwee/Sept 3, 2010/4981.0\n"
     ]
    }
   ],
   "source": [
    "show_matches('-05-|May', readings)"
   ]
  },
  {
   "cell_type": "markdown",
   "metadata": {
    "collapsed": false
   },
   "source": [
    "Matching is great, but what is even more useful is remembering what we matched so we can extract the data!\n",
    "\n",
    "`re.search` does this using parentheseses. When a regular expression matches, the library remembers what matched against every parenthesized sub-expresssion.\n",
    "\n",
    "Let's extract the year from the first record. Here `re.search` returns a match object **IF** a match is found. Otherwise it returns None."
   ]
  },
  {
   "cell_type": "code",
   "execution_count": 91,
   "metadata": {
    "collapsed": false
   },
   "outputs": [
    {
     "name": "stdout",
     "output_type": "stream",
     "text": [
      "2009\n"
     ]
    }
   ],
   "source": [
    "match = re.search('(2009|2010|2011)', 'Baker 1\\t2009-11-17\\t1223.0')\n",
    "print(match.group(1))"
   ]
  },
  {
   "cell_type": "markdown",
   "metadata": {},
   "source": [
    "`match.group(k)` returns the kth subexpression in the regular expression\n",
    "(inside the kth pair of parentheses, counting from the left).\n",
    "\n",
    "*Note - unlike other things in Python, k goes from 1 to N, not 0  to N-1*\n",
    "\n",
    "What if we wanted to match the month, not the year, from the first record? We could use | for OR again, such as:"
   ]
  },
  {
   "cell_type": "code",
   "execution_count": 92,
   "metadata": {
    "collapsed": false
   },
   "outputs": [
    {
     "name": "stdout",
     "output_type": "stream",
     "text": [
      "09\n"
     ]
    }
   ],
   "source": [
    "match = re.search('(01|02|03|04|05|06|07|08|09|10|11|12)', 'Baker 1\\t2009-11-17\\t1223.0')\n",
    "\n",
    "print(match.group(1))"
   ]
  },
  {
   "cell_type": "markdown",
   "metadata": {},
   "source": [
    "But that is a LOT of typing!!! Isn't there a better way? We can use '.' to match a single character. To extract the month, we can type:"
   ]
  },
  {
   "cell_type": "code",
   "execution_count": 93,
   "metadata": {
    "collapsed": false
   },
   "outputs": [
    {
     "name": "stdout",
     "output_type": "stream",
     "text": [
      "11\n"
     ]
    }
   ],
   "source": [
    "match = re.search('....-(..)-..', 'Baker 1\\t2009-11-17\\t1223.0')\n",
    "\n",
    "print(match.group(1))"
   ]
  },
  {
   "cell_type": "markdown",
   "metadata": {
    "collapsed": false
   },
   "source": [
    "##Exercise\n",
    "\n",
    "Where pattern is a variable containing a string, and typing:\n",
    "~~~\n",
    "match = re.search(pattern, ‘Baker 1\\t2009-11-17\\t1223.0’)\n",
    "print match.group(1) \n",
    "~~~\n",
    "returns:\n",
    "~~~\n",
    "17\n",
    "~~~\n",
    "\n",
    "What string in pattern would result in the above output?\n",
    "\n",
    "a. `'....-(..)-..'`\n",
    "\n",
    "b. `'..  -..-(..)'`\n",
    "\n",
    "c. `'....-(..)-(..)'`\n",
    "\n",
    "d. `'(....-..-..)'`"
   ]
  },
  {
   "cell_type": "markdown",
   "metadata": {},
   "source": [
    "As you might have imagined, we can use this to match and extract several regular expressions. To extract the year, month, and day we can type:"
   ]
  },
  {
   "cell_type": "code",
   "execution_count": 94,
   "metadata": {
    "collapsed": false
   },
   "outputs": [
    {
     "name": "stdout",
     "output_type": "stream",
     "text": [
      "2009 11 17\n"
     ]
    }
   ],
   "source": [
    "match = re.search('(....)-(..)-(..)', 'Baker 1\\t2009-11-17\\t1223.0')\n",
    "\n",
    "print(match.group(1), match.group(2), match.group(3))"
   ]
  },
  {
   "cell_type": "markdown",
   "metadata": {},
   "source": [
    "## Exercise\n",
    "From the text below, extract the Researcher's name and date (including the dashes) and print to screen.\n",
    "~~~\n",
    "Baker 2009-11-17\n",
    "~~~\n",
    "\n",
    "##Answer:\n",
    "~~~\n",
    "match = re.search('(.....) 1\\t(....-..-..)', 'Baker 1\\t2009-11-17\\t1223.0')\n",
    "print(match.group(1), match.group(2))\n",
    "~~~"
   ]
  },
  {
   "cell_type": "markdown",
   "metadata": {},
   "source": [
    "Let's now try to break the first record of `notebook-2.txt` into pieces"
   ]
  },
  {
   "cell_type": "code",
   "execution_count": 95,
   "metadata": {
    "collapsed": false
   },
   "outputs": [
    {
     "name": "stdout",
     "output_type": "stream",
     "text": [
      "Davison/May 23, 2010/1724.7\n"
     ]
    }
   ],
   "source": [
    "print(readings[6])"
   ]
  },
  {
   "cell_type": "markdown",
   "metadata": {},
   "source": [
    "To do this we can by using the `*` character. `*` is a postfix operator that means 0 or more"
   ]
  },
  {
   "cell_type": "code",
   "execution_count": 96,
   "metadata": {
    "collapsed": false
   },
   "outputs": [
    {
     "name": "stdout",
     "output_type": "stream",
     "text": [
      "Davison\n",
      "May 23, 2010\n",
      "1724.7\n"
     ]
    }
   ],
   "source": [
    "match = re.search('(.*)/(.*)/(.*)', 'Davison/May 23, 2010/1724.7')\n",
    "\n",
    "print(match.group(1))\n",
    "print(match.group(2))\n",
    "print(match.group(3))"
   ]
  },
  {
   "cell_type": "markdown",
   "metadata": {},
   "source": [
    "Let's test how well this works on a case we might not want a match for (e.g. `//`)"
   ]
  },
  {
   "cell_type": "code",
   "execution_count": 97,
   "metadata": {
    "collapsed": false
   },
   "outputs": [
    {
     "name": "stdout",
     "output_type": "stream",
     "text": [
      "* \n",
      "* \n",
      "* \n"
     ]
    }
   ],
   "source": [
    "match = re.search('(.*)/(.*)/(.*)', '//')\n",
    "\n",
    "print('*', match.group(1))\n",
    "print('*', match.group(2))\n",
    "print('*', match.group(3))"
   ]
  },
  {
   "cell_type": "markdown",
   "metadata": {},
   "source": [
    "What is going on here? Why are we getting a false positive? `.*` can match the empty string (zero characters) because of the `*`. So what can we do to prevent our pattern from recognizing badly patterned data?\n",
    "\n",
    "We can use `+` instead of `*`. `+` is a postfix operator which means 1 or more."
   ]
  },
  {
   "cell_type": "code",
   "execution_count": 98,
   "metadata": {
    "collapsed": false
   },
   "outputs": [
    {
     "ename": "AttributeError",
     "evalue": "'NoneType' object has no attribute 'group'",
     "output_type": "error",
     "traceback": [
      "\u001b[0;31m---------------------------------------------------------------------------\u001b[0m",
      "\u001b[0;31mAttributeError\u001b[0m                            Traceback (most recent call last)",
      "\u001b[0;32m<ipython-input-98-20b631f1f688>\u001b[0m in \u001b[0;36m<module>\u001b[0;34m()\u001b[0m\n\u001b[1;32m      1\u001b[0m \u001b[0mmatch\u001b[0m \u001b[0;34m=\u001b[0m \u001b[0mre\u001b[0m\u001b[0;34m.\u001b[0m\u001b[0msearch\u001b[0m\u001b[0;34m(\u001b[0m\u001b[0;34m'(.+)/(.+)/(.+)'\u001b[0m\u001b[0;34m,\u001b[0m \u001b[0;34m'//'\u001b[0m\u001b[0;34m)\u001b[0m\u001b[0;34m\u001b[0m\u001b[0m\n\u001b[1;32m      2\u001b[0m \u001b[0;34m\u001b[0m\u001b[0m\n\u001b[0;32m----> 3\u001b[0;31m \u001b[0mprint\u001b[0m\u001b[0;34m(\u001b[0m\u001b[0;34m'*'\u001b[0m\u001b[0;34m,\u001b[0m \u001b[0mmatch\u001b[0m\u001b[0;34m.\u001b[0m\u001b[0mgroup\u001b[0m\u001b[0;34m(\u001b[0m\u001b[0;36m1\u001b[0m\u001b[0;34m)\u001b[0m\u001b[0;34m)\u001b[0m\u001b[0;34m\u001b[0m\u001b[0m\n\u001b[0m\u001b[1;32m      4\u001b[0m \u001b[0mprint\u001b[0m\u001b[0;34m(\u001b[0m\u001b[0;34m'*'\u001b[0m\u001b[0;34m,\u001b[0m \u001b[0mmatch\u001b[0m\u001b[0;34m.\u001b[0m\u001b[0mgroup\u001b[0m\u001b[0;34m(\u001b[0m\u001b[0;36m2\u001b[0m\u001b[0;34m)\u001b[0m\u001b[0;34m)\u001b[0m\u001b[0;34m\u001b[0m\u001b[0m\n\u001b[1;32m      5\u001b[0m \u001b[0mprint\u001b[0m\u001b[0;34m(\u001b[0m\u001b[0;34m'*'\u001b[0m\u001b[0;34m,\u001b[0m \u001b[0mmatch\u001b[0m\u001b[0;34m.\u001b[0m\u001b[0mgroup\u001b[0m\u001b[0;34m(\u001b[0m\u001b[0;36m3\u001b[0m\u001b[0;34m)\u001b[0m\u001b[0;34m)\u001b[0m\u001b[0;34m\u001b[0m\u001b[0m\n",
      "\u001b[0;31mAttributeError\u001b[0m: 'NoneType' object has no attribute 'group'"
     ]
    }
   ],
   "source": [
    "match = re.search('(.+)/(.+)/(.+)', '//')\n",
    "\n",
    "print('*', match.group(1))\n",
    "print('*', match.group(2))\n",
    "print('*', match.group(3))"
   ]
  },
  {
   "cell_type": "markdown",
   "metadata": {},
   "source": [
    "We get an error because each `match.group(k)` holds the value None."
   ]
  },
  {
   "cell_type": "code",
   "execution_count": 99,
   "metadata": {
    "collapsed": false
   },
   "outputs": [
    {
     "name": "stdout",
     "output_type": "stream",
     "text": [
      "None\n"
     ]
    }
   ],
   "source": [
    "print(re.search('(.+)/(.+)/(.+)', '//'))"
   ]
  },
  {
   "cell_type": "markdown",
   "metadata": {},
   "source": [
    "Now let's double check that this still works with our real data:"
   ]
  },
  {
   "cell_type": "code",
   "execution_count": 100,
   "metadata": {
    "collapsed": false
   },
   "outputs": [
    {
     "name": "stdout",
     "output_type": "stream",
     "text": [
      "Davison\n",
      "May 23, 2010\n",
      "1724.7\n"
     ]
    }
   ],
   "source": [
    "match = re.search('(.+)/(.+)/(.+)', 'Davison/May 23, 2010/1724.7')\n",
    "\n",
    "print(match.group(1))\n",
    "print(match.group(2))\n",
    "print(match.group(3))"
   ]
  },
  {
   "cell_type": "markdown",
   "metadata": {},
   "source": [
    "Since we are going to be doing a lot of matching again, let's write a function which will apply a pattern to a piece of text and report if there is no match, OR IF there is a match, it will print out all the groups in order."
   ]
  },
  {
   "cell_type": "code",
   "execution_count": 101,
   "metadata": {
    "collapsed": false
   },
   "outputs": [],
   "source": [
    "##Function to show matched groups\n",
    "def show_groups(pattern, text):\n",
    "    \n",
    "    m = re.search(pattern, text)\n",
    "    \n",
    "    ##If no match is found (i.e. re.search returns 'None')\n",
    "    ##then we print 'No Match' and exit the function\n",
    "    if m is None:\n",
    "        print('No Match')\n",
    "        return\n",
    "    \n",
    "    ##If there is a match, we print out the group number,\n",
    "    ##an arrow, and the string that matched the pattern.\n",
    "    ##This will be done for every parenthesized regular\n",
    "    ##expression in the pattern\n",
    "    for i in range(1, 1 + len(m.groups())):\n",
    "        print(i, \"->\", m.group(i))"
   ]
  },
  {
   "cell_type": "markdown",
   "metadata": {},
   "source": [
    "Let's try it out:"
   ]
  },
  {
   "cell_type": "code",
   "execution_count": 102,
   "metadata": {
    "collapsed": false
   },
   "outputs": [
    {
     "name": "stdout",
     "output_type": "stream",
     "text": [
      "1 -> Davison\n",
      "2 -> May 23, 2010\n",
      "3 -> 1724.7\n"
     ]
    }
   ],
   "source": [
    "show_groups('(.+)/(.+)/(.+)', 'Davison/May 23, 2010/1724.7')"
   ]
  },
  {
   "cell_type": "markdown",
   "metadata": {},
   "source": [
    "Now, since we could break our record up into 3 parts, why not break up the date while we are at it:"
   ]
  },
  {
   "cell_type": "code",
   "execution_count": 103,
   "metadata": {
    "collapsed": false
   },
   "outputs": [
    {
     "name": "stdout",
     "output_type": "stream",
     "text": [
      "1 -> Davison\n",
      "2 -> May\n",
      "3 -> 23\n",
      "4 -> 2010\n",
      "5 -> 1724.7\n"
     ]
    }
   ],
   "source": [
    "show_groups('(.+)/(.+) (.+), (.+)/(.+)', 'Davison/May 23, 2010/1724.7')"
   ]
  },
  {
   "cell_type": "markdown",
   "metadata": {},
   "source": [
    "What if we had an irregular record where a comma was forgotten?"
   ]
  },
  {
   "cell_type": "code",
   "execution_count": 104,
   "metadata": {
    "collapsed": false
   },
   "outputs": [
    {
     "name": "stdout",
     "output_type": "stream",
     "text": [
      "No Match\n"
     ]
    }
   ],
   "source": [
    "show_groups('(.+)/(.+) (.+), (.+)/(.+)', 'Davison/May 23 2010/1724.7')"
   ]
  },
  {
   "cell_type": "markdown",
   "metadata": {},
   "source": [
    "How can we deal with such a case? We can use the `?` postfix operator which means 0 or 1:"
   ]
  },
  {
   "cell_type": "code",
   "execution_count": 105,
   "metadata": {
    "collapsed": false
   },
   "outputs": [
    {
     "name": "stdout",
     "output_type": "stream",
     "text": [
      "1 -> Davison\n",
      "2 -> May\n",
      "3 -> 23\n",
      "4 -> 2010\n",
      "5 -> 1724.7\n"
     ]
    }
   ],
   "source": [
    "show_groups('(.+)/(.+) (.+),? (.+)/(.+)', 'Davison/May 23 2010/1724.7')"
   ]
  },
  {
   "cell_type": "markdown",
   "metadata": {},
   "source": [
    "Does this still work on data with a comma?"
   ]
  },
  {
   "cell_type": "code",
   "execution_count": 106,
   "metadata": {
    "collapsed": false
   },
   "outputs": [
    {
     "name": "stdout",
     "output_type": "stream",
     "text": [
      "1 -> Davison\n",
      "2 -> May\n",
      "3 -> 23,\n",
      "4 -> 2010\n",
      "5 -> 1724.7\n"
     ]
    }
   ],
   "source": [
    "show_groups('(.+)/(.+) (.+),? (.+)/(.+)', 'Davison/May 23, 2010/1724.7')"
   ]
  },
  {
   "cell_type": "markdown",
   "metadata": {},
   "source": [
    "What if there was an entry error in the year? E.g. someone wrote 201 instead of 2010 or 2011?"
   ]
  },
  {
   "cell_type": "code",
   "execution_count": 107,
   "metadata": {
    "collapsed": false
   },
   "outputs": [
    {
     "name": "stdout",
     "output_type": "stream",
     "text": [
      "1 -> Davison\n",
      "2 -> May\n",
      "3 -> 23,\n",
      "4 -> 201\n",
      "5 -> 1724.7\n"
     ]
    }
   ],
   "source": [
    "show_groups('(.+)/(.+) (.+),? (.+)/(.+)', 'Davison/May 23, 201/1724.7')"
   ]
  },
  {
   "cell_type": "markdown",
   "metadata": {},
   "source": [
    "We probably don't want to match that. We could fix this by specifying that the date has to be 4 characters long:"
   ]
  },
  {
   "cell_type": "code",
   "execution_count": 108,
   "metadata": {
    "collapsed": false
   },
   "outputs": [
    {
     "name": "stdout",
     "output_type": "stream",
     "text": [
      "No Match\n"
     ]
    }
   ],
   "source": [
    "show_groups('(.+)/(.+) (.+),? (....)/(.+)', 'Davison/May 23, 201/1724.7')"
   ]
  },
  {
   "cell_type": "markdown",
   "metadata": {},
   "source": [
    "This isn't very readable (is there four, five, twenty dots there???). We can use a `{N}` postfix operator to make this more readable:"
   ]
  },
  {
   "cell_type": "code",
   "execution_count": 109,
   "metadata": {
    "collapsed": false
   },
   "outputs": [
    {
     "name": "stdout",
     "output_type": "stream",
     "text": [
      "No Match\n"
     ]
    }
   ],
   "source": [
    "show_groups('(.+)/(.+) (.+),? (.{4})/(.+)', 'Davison/May 23, 201/1724.7')"
   ]
  },
  {
   "cell_type": "markdown",
   "metadata": {
    "collapsed": false
   },
   "source": [
    "##Exercise\n",
    "\n",
    "Write a regular expression to match records with dates with one or two digits but not > 2 (e.g. would match May 22 or May 2, but not May 222).\n",
    "\n",
    "Hint to {M,N} matches from M to N times.\n",
    "\n",
    "##Answer:\n",
    "~~~\n",
    "show_groups('(.+)/(.+) (.{1,2}),? (.{4})/(.+)', 'Davison/May 23, 2010/1724.7')\n",
    "show_groups('(.+)/(.+) (.{1,2}),? (.{4})/(.+)', 'Davison/May 232, 2010/1724.7')\n",
    "show_groups('(.+)/(.+) (.{1,2}),? (.{4})/(.+)', 'Davison/May 2010/1724.7')\n",
    "~~~"
   ]
  },
  {
   "cell_type": "markdown",
   "metadata": {},
   "source": [
    "Does our solution work on a record such as: `Davison/May , 201/1724.7`?"
   ]
  },
  {
   "cell_type": "code",
   "execution_count": 110,
   "metadata": {
    "collapsed": false
   },
   "outputs": [
    {
     "name": "stdout",
     "output_type": "stream",
     "text": [
      "1 -> Davison\n",
      "2 -> May\n",
      "3 -> ,\n",
      "4 -> 2010\n",
      "5 -> 1724.7\n"
     ]
    }
   ],
   "source": [
    "show_groups('(.+)/(.+) (.{1,2}),? (.{4})/(.+)', 'Davison/May , 2010/1724.7')"
   ]
  },
  {
   "cell_type": "markdown",
   "metadata": {},
   "source": [
    "Why does this return a match? Its because of the `,` matching `.{1,2}` and the `?` postfix operator allowing for the presence or absence of a comma.\n",
    "\n",
    "We can fix this by limiting what type of characters are matched for the day `[...]` matches characters in a set defined by the user"
   ]
  },
  {
   "cell_type": "code",
   "execution_count": 111,
   "metadata": {
    "collapsed": false
   },
   "outputs": [
    {
     "name": "stdout",
     "output_type": "stream",
     "text": [
      "No Match\n"
     ]
    }
   ],
   "source": [
    "show_groups('(.+)/(.+) ([0-9]{1,2}),? (.{4})/(.+)', 'Davison/May , 2010/1724.7')"
   ]
  },
  {
   "cell_type": "markdown",
   "metadata": {},
   "source": [
    "This still works when our records have no unreasonable mistakes:"
   ]
  },
  {
   "cell_type": "code",
   "execution_count": 112,
   "metadata": {
    "collapsed": false
   },
   "outputs": [
    {
     "name": "stdout",
     "output_type": "stream",
     "text": [
      "1 -> Davison\n",
      "2 -> May\n",
      "3 -> 22\n",
      "4 -> 2010\n",
      "5 -> 1724.7\n"
     ]
    }
   ],
   "source": [
    "show_groups('(.+)/(.+) ([0-9]{1,2}),? (.{4})/(.+)', 'Davison/May 22, 2010/1724.7')"
   ]
  },
  {
   "cell_type": "markdown",
   "metadata": {},
   "source": [
    "Final matching pattern for records from notebook-2.txt:"
   ]
  },
  {
   "cell_type": "code",
   "execution_count": 113,
   "metadata": {
    "collapsed": false
   },
   "outputs": [
    {
     "name": "stdout",
     "output_type": "stream",
     "text": [
      "1 -> Davison\n",
      "2 -> May\n",
      "3 -> 22\n",
      "4 -> 2010\n",
      "5 -> 1724.7\n"
     ]
    }
   ],
   "source": [
    "p = '(.+)/([A-Za-z]+) ([0-9]{1,2}),? ([0-9]{4})/(.+)'\n",
    "show_groups(p, 'Davison/May 22, 2010/1724.7')"
   ]
  },
  {
   "cell_type": "markdown",
   "metadata": {},
   "source": [
    "Now we have some tools to start to organize this data. Let's take a look at our data again."
   ]
  },
  {
   "cell_type": "code",
   "execution_count": 114,
   "metadata": {
    "collapsed": false
   },
   "outputs": [
    {
     "name": "stdout",
     "output_type": "stream",
     "text": [
      "Baker 1 2009-11-17      1223.0\n",
      "Baker 1 2010-06-24      1122.7\n",
      "Baker 2 2009-07-24      2819.0\n",
      "Baker 2 2010-08-25      2971.6\n",
      "Baker 1 2011-01-05      1410.0\n",
      "Baker 2 2010-09-04      4671.6\n",
      "Davison/May 23, 2010/1724.7\n",
      "Pertwee/May 24, 2010/2103.8\n",
      "Davison/June 19, 2010/1731.9\n",
      "Davison/July 6, 2010/2010.7\n",
      "Pertwee/Aug 4, 2010/1731.3\n",
      "Pertwee/Sept 3, 2010/4981.0\n"
     ]
    }
   ],
   "source": [
    "##Loop through each item in readings and print it to the screen\n",
    "for r in readings:\n",
    "    print(r)"
   ]
  },
  {
   "cell_type": "markdown",
   "metadata": {},
   "source": [
    "Let's write a function that returns the date in the order Y, M, D or none if there is no match"
   ]
  },
  {
   "cell_type": "code",
   "execution_count": 115,
   "metadata": {
    "collapsed": false
   },
   "outputs": [],
   "source": [
    "def get_date(record):\n",
    "    '''Return (Y,M,D) as strings or None.'''\n",
    "    \n",
    "    #try re.search() for dates which looks like 2010-01-01\n",
    "    m = re.search('([0-9]{4})-([0-9]{2})-([0-9]{2})', record)\n",
    "    \n",
    "    ##test if re.search() returned a match from the above pattern\n",
    "    if m:\n",
    "        return m.group(1), m.group(2), m.group(3)\n",
    "    \n",
    "    ##if re.search() returned None from the above patterm\n",
    "    ##try the other pattern\n",
    "    m = re.search('/([A-Z][a-z]+) ([0-9]{1,2}),? ([0-9]{4})/', record)\n",
    "    \n",
    "    ##test if re.search() returned a match from the second pattern\n",
    "    if m:\n",
    "        return m.group(3), m.group(2), m.group(1)\n",
    "    \n",
    "    ##if neither pattern returned a match from re.search(), return None\n",
    "    return None"
   ]
  },
  {
   "cell_type": "markdown",
   "metadata": {},
   "source": [
    "Let's apply this function to all our records in readings:"
   ]
  },
  {
   "cell_type": "code",
   "execution_count": 116,
   "metadata": {
    "collapsed": false
   },
   "outputs": [
    {
     "name": "stdout",
     "output_type": "stream",
     "text": [
      "2009 11 17\n",
      "2010 06 24\n",
      "2009 07 24\n",
      "2010 08 25\n",
      "2011 01 05\n",
      "2010 09 04\n",
      "2010 23 May\n",
      "2010 24 May\n",
      "2010 19 June\n",
      "2010 6 July\n",
      "2010 4 Aug\n",
      "2010 3 Sept\n"
     ]
    }
   ],
   "source": [
    "for r in readings:\n",
    "    print(get_date(r)[0], get_date(r)[1], get_date(r)[2])"
   ]
  },
  {
   "cell_type": "markdown",
   "metadata": {
    "collapsed": false
   },
   "source": [
    "This is how we would normally approach a problem like this, write a pattern for each case and put them together in a function. This is easier and more readable than trying to make a giagantic pattern that works for all cases."
   ]
  },
  {
   "cell_type": "markdown",
   "metadata": {},
   "source": [
    "##CHALLENGE!!\n",
    "\n",
    "Modify the function to get all 3 fields (Researcher, Date, Measurement)and put them in the same order (remember to list date as Y, M, D)\n",
    "\n",
    "For an extra challenge, try to not include the experiment number (e.g.\n",
    "get only 'Baker' not 'Baker 1')\n",
    "\n",
    "##Answer (first part of challenge):"
   ]
  },
  {
   "cell_type": "code",
   "execution_count": 119,
   "metadata": {
    "collapsed": false
   },
   "outputs": [
    {
     "name": "stdout",
     "output_type": "stream",
     "text": [
      "Baker 1  2009 11 17 1223.0\n",
      "Baker 1  2010 06 24 1122.7\n",
      "Baker 2  2009 07 24 2819.0\n",
      "Baker 2  2010 08 25 2971.6\n",
      "Baker 1  2011 01 05 1410.0\n",
      "Baker 2  2010 09 04 4671.6\n",
      "Davison 2010 May 23 1724.7\n",
      "Pertwee 2010 May 24 2103.8\n",
      "Davison 2010 June 19 1731.9\n",
      "Davison 2010 July 6 2010.7\n",
      "Pertwee 2010 Aug 4 1731.3\n",
      "Pertwee 2010 Sept 3 4981.0\n"
     ]
    }
   ],
   "source": [
    "def get_date(record):\n",
    "    '''Return (Y,M,D) as strings or None.'''\n",
    "    \n",
    "    #try re.search() for dates which looks like 2010-01-01\n",
    "    m = re.search('(.+)\\\\s*([0-9]{4})-([0-9]{2})-([0-9]{2})\\\\s*(.+)', record)\n",
    "    \n",
    "    ##test if re.search() returned a match from the above pattern\n",
    "    if m:\n",
    "        return m.group(1), m.group(2), m.group(3), m.group(4), m.group(5)\n",
    "    \n",
    "    ##if re.search() returned None from the above patterm\n",
    "    ##try the other pattern\n",
    "    m = re.search('([A-Za-z]+)/([A-Z][a-z]+) ([0-9]{1,2}),? ([0-9]{4})/(.*)', record)\n",
    "    \n",
    "    ##test if re.search() returned a match from the second pattern\n",
    "    if m:\n",
    "        return m.group(1), m.group(4), m.group(2), m.group(3), m.group(5)\n",
    "    \n",
    "    ##if neither pattern returned a match from re.search(), return None\n",
    "    return None\n",
    "\n",
    "\n",
    "##Let's apply this function to all our records in readings\n",
    "for r in readings:\n",
    "    print(get_date(r)[0], get_date(r)[1], get_date(r)[2], get_date(r)[3], get_date(r)[4])"
   ]
  },
  {
   "cell_type": "markdown",
   "metadata": {},
   "source": [
    "##Answer (second part of challenge):"
   ]
  },
  {
   "cell_type": "code",
   "execution_count": 120,
   "metadata": {
    "collapsed": false
   },
   "outputs": [
    {
     "name": "stdout",
     "output_type": "stream",
     "text": [
      "Baker 2009 11 17 1223.0\n",
      "Baker 2010 06 24 1122.7\n",
      "Baker 2009 07 24 2819.0\n",
      "Baker 2010 08 25 2971.6\n",
      "Baker 2011 01 05 1410.0\n",
      "Baker 2010 09 04 4671.6\n",
      "Davison 2010 May 23 1724.7\n",
      "Pertwee 2010 May 24 2103.8\n",
      "Davison 2010 June 19 1731.9\n",
      "Davison 2010 July 6 2010.7\n",
      "Pertwee 2010 Aug 4 1731.3\n",
      "Pertwee 2010 Sept 3 4981.0\n"
     ]
    }
   ],
   "source": [
    "def get_date(record):\n",
    "    '''Return (Y,M,D) as strings or None.'''\n",
    "    \n",
    "    #try re.search() for dates which looks like 2010-01-01\n",
    "    m = re.search('([A-Za-z]+)\\\\s*.\\\\s*([0-9]{4})-([0-9]{2})-([0-9]{2})\\\\s*(.+)', record)\n",
    "    \n",
    "    ##test if re.search() returned a match from the above pattern\n",
    "    if m:\n",
    "        return m.group(1), m.group(2), m.group(3), m.group(4), m.group(5)\n",
    "    \n",
    "    ##if re.search() returned None from the above patterm\n",
    "    ##try the other pattern\n",
    "    m = re.search('([A-Za-z]+)/([A-Z][a-z]+) ([0-9]{1,2}),? ([0-9]{4})/(.*)', record)\n",
    "    \n",
    "    ##test if re.search() returned a match from the second pattern\n",
    "    if m:\n",
    "        return m.group(1), m.group(4), m.group(2), m.group(3), m.group(5)\n",
    "    \n",
    "    ##if neither pattern returned a match from re.search(), return None\n",
    "    return None\n",
    "\n",
    "##Let's apply this function to all our records in readings\n",
    "for r in readings:\n",
    "    print(get_date(r)[0], get_date(r)[1], get_date(r)[2], get_date(r)[3], get_date(r)[4])"
   ]
  },
  {
   "cell_type": "markdown",
   "metadata": {},
   "source": [
    "## Finding more than one thing"
   ]
  },
  {
   "cell_type": "markdown",
   "metadata": {},
   "source": [
    "What if we wanted to extract multiple occurences of a pattern? For example, if we wanted to know how many occurences of 'atg's there are in a DNA sequence?"
   ]
  },
  {
   "cell_type": "code",
   "execution_count": 121,
   "metadata": {
    "collapsed": false
   },
   "outputs": [
    {
     "name": "stdout",
     "output_type": "stream",
     "text": [
      "atg\n",
      "atg\n",
      "atg\n"
     ]
    }
   ],
   "source": [
    "DNA_sequence = 'atcccttatatatgggatcatttaatatacgtgtatgcaactatttaaaagcgatgggc'\n",
    "\n",
    "m = re.findall('atg', DNA_sequence)\n",
    "\n",
    "for i in range(0,len(m)):\n",
    "    print(m[i])"
   ]
  },
  {
   "cell_type": "markdown",
   "metadata": {},
   "source": [
    "We can use more complicated regular expressions like we did before. For example, if we want to know the 3 nucleotides that follow each 'atg'"
   ]
  },
  {
   "cell_type": "code",
   "execution_count": 123,
   "metadata": {
    "collapsed": false
   },
   "outputs": [
    {
     "name": "stdout",
     "output_type": "stream",
     "text": [
      "gga\n",
      "caa\n",
      "ggc\n"
     ]
    }
   ],
   "source": [
    "m = re.findall('atg(.{3})', DNA_sequence)\n",
    "\n",
    "for i in range(0,len(m)):\n",
    "    print(m[i])"
   ]
  },
  {
   "cell_type": "markdown",
   "metadata": {},
   "source": [
    "Now, if we are going to be using the pattern over and over again, we can compile it to save time:"
   ]
  },
  {
   "cell_type": "code",
   "execution_count": 125,
   "metadata": {
    "collapsed": false
   },
   "outputs": [
    {
     "name": "stdout",
     "output_type": "stream",
     "text": [
      "gga\n",
      "caa\n",
      "ggc\n"
     ]
    }
   ],
   "source": [
    "after_atg = re.compile('atg(.{3})')\n",
    "m = after_atg.findall(DNA_sequence)\n",
    "\n",
    "for i in range(0,len(m)):\n",
    "    print(m[i])"
   ]
  }
 ],
 "metadata": {
  "kernelspec": {
   "display_name": "Python 3",
   "language": "python",
   "name": "python3"
  },
  "language_info": {
   "codemirror_mode": {
    "name": "ipython",
    "version": 3
   },
   "file_extension": ".py",
   "mimetype": "text/x-python",
   "name": "python",
   "nbconvert_exporter": "python",
   "pygments_lexer": "ipython3",
   "version": "3.4.3"
  }
 },
 "nbformat": 4,
 "nbformat_minor": 0
}
